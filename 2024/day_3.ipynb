{
 "cells": [
  {
   "cell_type": "code",
   "execution_count": null,
   "metadata": {},
   "outputs": [],
   "source": [
    "# Import data\n",
    "\n",
    "def leggi_file_txt(nome_file):\n",
    "    try:\n",
    "        with open(nome_file, 'r') as file:\n",
    "            out = file.read()\n",
    "        return out\n",
    "    except FileNotFoundError:\n",
    "        print(f\"Errore: il file '{nome_file}' non è stato trovato.\")\n",
    "    except Exception as e:\n",
    "        print(f\"Si è verificato un errore: {e}\")\n",
    "\n",
    "\n",
    "nome_file = 'input_day3.txt'\n",
    "nome_file_test= 'input_day3_test.txt'\n",
    "data= leggi_file_txt(nome_file)\n",
    "data_test=leggi_file_txt(nome_file_test)"
   ]
  },
  {
   "cell_type": "code",
   "execution_count": null,
   "metadata": {},
   "outputs": [],
   "source": [
    "# Funzioni parte 1\n",
    "\n",
    "import re\n",
    "\n",
    "\n",
    "def trova_mul(sentence, word ='mul'):\n",
    "    out=[]\n",
    "    for match in re.finditer(word, sentence):\n",
    "        out.append(match.end())\n",
    "    return out\n",
    "\n",
    "\n",
    "def is_valid(sentence, position):\n",
    "    idx=0\n",
    "    if sentence[position+idx]!='(' and not sentence[position+idx+1].isdigit() :\n",
    "        return []\n",
    "    idx+=1\n",
    "    while(sentence[position+idx].isdigit()):\n",
    "        idx+=1\n",
    "    num_a=int(sentence[position+1:position+idx] )\n",
    "    idx_b=idx\n",
    "    if sentence[position+idx_b]!=',' and not  sentence[position+idx_b+1].isdigit() :\n",
    "        return []\n",
    "    idx_b+=1\n",
    "    while(sentence[position+idx_b].isdigit()):\n",
    "        idx_b+=1\n",
    "    num_b=int(sentence[position+idx+1:position+idx_b] )\n",
    "    if sentence[position+idx_b]!=')':\n",
    "        return []\n",
    "    return [num_a, num_b]"
   ]
  },
  {
   "cell_type": "code",
   "execution_count": 3,
   "metadata": {},
   "outputs": [
    {
     "name": "stdout",
     "output_type": "stream",
     "text": [
      "161085926\n"
     ]
    }
   ],
   "source": [
    "#Calcolo parte 1\n",
    "\n",
    "answer_1=0\n",
    "\n",
    "lista_mul=trova_mul(data)\n",
    "\n",
    "for item in lista_mul:\n",
    "    app=is_valid(data, item)\n",
    "    if app != []:\n",
    "        answer_1+=app[0]*app[1]\n",
    "\n",
    "print(answer_1)"
   ]
  },
  {
   "cell_type": "code",
   "execution_count": 44,
   "metadata": {},
   "outputs": [],
   "source": [
    "# Funzioni parte 2\n",
    "\n",
    "def trova_do(sentence, word ='do\\(\\)'):\n",
    "    out=[]\n",
    "    for match in re.finditer(word, sentence):\n",
    "        out.append(match.end())\n",
    "    return out\n",
    "\n",
    "\n",
    "def trova_dont(sentence, word ='don\\'t\\(\\)'):\n",
    "    out=[]\n",
    "    for match in re.finditer(word, sentence):\n",
    "        out.append(match.end())\n",
    "    return out\n",
    "\n",
    "\n",
    "def floor_list(lista, numero):\n",
    "    if lista[0]>=numero:\n",
    "        return 0\n",
    "    i=0\n",
    "    while( i<len(lista) and lista[i]<numero ):\n",
    "        i+=1\n",
    "    return lista[i-1]"
   ]
  },
  {
   "cell_type": "code",
   "execution_count": null,
   "metadata": {},
   "outputs": [
    {
     "name": "stdout",
     "output_type": "stream",
     "text": [
      "82045421\n"
     ]
    }
   ],
   "source": [
    "#Calcolo parte 2\n",
    "\n",
    "sentence=data\n",
    "\n",
    "answer_2=0\n",
    "\n",
    "lista_mul=trova_mul(sentence)\n",
    "lista_do=trova_do(sentence)\n",
    "lista_dont=trova_dont(sentence)\n",
    "\n",
    "\n",
    "\n",
    "for item in lista_mul:\n",
    "    if floor_list(lista_do, item)>= floor_list(lista_dont, item):\n",
    "        app=is_valid(sentence, item)\n",
    "        if app != []:\n",
    "            answer_2+=app[0]*app[1]\n",
    "\n",
    "print(answer_2)"
   ]
  }
 ],
 "metadata": {
  "kernelspec": {
   "display_name": "aoc24_venv",
   "language": "python",
   "name": "python3"
  },
  "language_info": {
   "codemirror_mode": {
    "name": "ipython",
    "version": 3
   },
   "file_extension": ".py",
   "mimetype": "text/x-python",
   "name": "python",
   "nbconvert_exporter": "python",
   "pygments_lexer": "ipython3",
   "version": "3.10.4"
  }
 },
 "nbformat": 4,
 "nbformat_minor": 2
}
