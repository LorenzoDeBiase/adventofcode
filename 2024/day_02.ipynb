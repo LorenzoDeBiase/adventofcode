{
 "cells": [
  {
   "cell_type": "code",
   "execution_count": null,
   "metadata": {},
   "outputs": [],
   "source": [
    "#Import data\n",
    "\n",
    "\n",
    "def leggi_file_txt(nome_file):\n",
    "\n",
    "    lista_righe = []\n",
    "    try:\n",
    "        with open(nome_file, 'r') as file:\n",
    "            for riga in file:\n",
    "                numeri = list(map(int, riga.split()))\n",
    "                lista_righe.append(numeri)\n",
    "    except FileNotFoundError:\n",
    "        print(f\"Errore: Il file {nome_file} non è stato trovato.\")\n",
    "    except ValueError as e:\n",
    "        print(f\"Errore durante la conversione dei dati: {e}\")\n",
    "    return lista_righe\n",
    "\n",
    "nome_file = 'input_day2.txt'\n",
    "nome_file_test= 'input_day2_test.txt'\n",
    "data= leggi_file_txt(nome_file)\n",
    "data_test=leggi_file_txt(nome_file_test)"
   ]
  },
  {
   "cell_type": "code",
   "execution_count": null,
   "metadata": {},
   "outputs": [],
   "source": [
    "#Funzioni parte 1\n",
    "\n",
    "def lista_is_safe(lista):\n",
    "        for i in  range(1, len(lista)):\n",
    "            distanza= abs(lista[i]-lista[i-1])\n",
    "            if distanza<1 or distanza>3:\n",
    "                return 0\n",
    "        return 1\n",
    "\n",
    "def lista_is_monotone(lista):\n",
    "    if all(lista[i] <= lista[i + 1] for i in range(len(lista) - 1)):\n",
    "        return 1\n",
    "    elif all(lista[i] >= lista[i + 1] for i in range(len(lista) - 1)):\n",
    "        return 1\n",
    "    else:\n",
    "        return 0\n",
    "\n"
   ]
  },
  {
   "cell_type": "code",
   "execution_count": null,
   "metadata": {},
   "outputs": [
    {
     "name": "stdout",
     "output_type": "stream",
     "text": [
      "279\n"
     ]
    }
   ],
   "source": [
    "#Calcolo parte 1\n",
    "\n",
    "answer_1=0\n",
    "\n",
    "for item in data:\n",
    "    if lista_is_safe(item)==1 and lista_is_monotone(item):\n",
    "        answer_1+=1\n",
    "\n",
    "\n",
    "print(answer_1)"
   ]
  },
  {
   "cell_type": "code",
   "execution_count": 20,
   "metadata": {},
   "outputs": [],
   "source": [
    "#Funzioni parte 2\n",
    "\n",
    "import copy\n",
    "def lista_is_safe_2(lista):\n",
    "    if lista_is_safe(lista)==1 and lista_is_monotone(lista)==1:\n",
    "        return 1\n",
    "    for i in range(len(lista)):\n",
    "        app=copy.deepcopy(lista)\n",
    "        app.pop(i)\n",
    "        if lista_is_safe(app)==1 and lista_is_monotone(app):\n",
    "            return 1\n",
    "    return 0"
   ]
  },
  {
   "cell_type": "code",
   "execution_count": 21,
   "metadata": {},
   "outputs": [
    {
     "name": "stdout",
     "output_type": "stream",
     "text": [
      "343\n"
     ]
    }
   ],
   "source": [
    "#Calcolo parte 2\n",
    "\n",
    "answer_2=0\n",
    "\n",
    "for item in data:\n",
    "    if lista_is_safe_2(item)==1:\n",
    "        answer_2+=1\n",
    "\n",
    "\n",
    "print(answer_2)"
   ]
  }
 ],
 "metadata": {
  "kernelspec": {
   "display_name": "aoc24_venv",
   "language": "python",
   "name": "python3"
  },
  "language_info": {
   "codemirror_mode": {
    "name": "ipython",
    "version": 3
   },
   "file_extension": ".py",
   "mimetype": "text/x-python",
   "name": "python",
   "nbconvert_exporter": "python",
   "pygments_lexer": "ipython3",
   "version": "3.10.4"
  },
  "orig_nbformat": 4
 },
 "nbformat": 4,
 "nbformat_minor": 2
}
