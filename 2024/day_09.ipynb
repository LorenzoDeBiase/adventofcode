{
 "cells": [
  {
   "cell_type": "code",
   "execution_count": 3,
   "metadata": {},
   "outputs": [],
   "source": [
    "# Ingestion\n",
    "\n",
    "def leggi_file_txt(nome_file):\n",
    "    try:\n",
    "        with open(nome_file, 'r') as file:\n",
    "            out = file.read()\n",
    "        return out\n",
    "    except FileNotFoundError:\n",
    "        print(f\"Errore: il file '{nome_file}' non è stato trovato.\")\n",
    "    except Exception as e:\n",
    "        print(f\"Si è verificato un errore: {e}\")\n",
    "\n",
    "\n",
    "nome_file = 'input_day9.txt'\n",
    "nome_file_test= 'input_day9_test.txt'\n",
    "data= leggi_file_txt(nome_file)\n",
    "data_test=leggi_file_txt(nome_file_test)\n"
   ]
  },
  {
   "cell_type": "code",
   "execution_count": 4,
   "metadata": {},
   "outputs": [],
   "source": [
    "# Funzioni parte 1\n",
    "\n",
    "def preprocessing(lista):\n",
    "    out= list(map(int , list(str(lista))))\n",
    "    return out\n",
    "\n",
    "\n",
    "def crea_hardware(lista):\n",
    "    out=[]\n",
    "    id=0\n",
    "    for i in range(len(lista)):\n",
    "        if i%2==0:\n",
    "            for j in range(lista[i]):\n",
    "                out.append(id)\n",
    "            id+=1\n",
    "        else:\n",
    "            for j in range(lista[i]):\n",
    "                out.append('.')\n",
    "    return out\n",
    "\n",
    "\n",
    "\n",
    "def first_dot(lista):\n",
    "    for i in range(len(lista)):\n",
    "        if lista[i]=='.':\n",
    "            return i\n",
    "    return 0\n",
    "\n",
    "def last_digit(lista):\n",
    "    for i in range(len(lista)-1,0, -1):\n",
    "        if lista[i]!='.':\n",
    "            return i\n",
    "    return 0\n",
    "\n",
    "    \n",
    "def compatta(lista):\n",
    "    while(last_digit(lista)>first_dot(lista)):\n",
    "        i=last_digit(lista)\n",
    "        j=first_dot(lista)\n",
    "        lista[i], lista[j]=lista[j], lista[i]\n",
    "        #print(i, j)\n",
    "    return lista\n",
    "\n",
    "\n",
    "\n",
    "\n",
    "def calcola_score(lista):\n",
    "    out=0\n",
    "    for i in range(last_digit(lista)+1):\n",
    "        out+=i*lista[i]\n",
    "    return out\n",
    "\n",
    "\n"
   ]
  },
  {
   "cell_type": "code",
   "execution_count": 5,
   "metadata": {},
   "outputs": [
    {
     "name": "stdout",
     "output_type": "stream",
     "text": [
      "1928\n"
     ]
    }
   ],
   "source": [
    "#Calcolo parte 1\n",
    "\n",
    "answer_1=0\n",
    "mappa=preprocessing(data_test[:-1])\n",
    "\n",
    "memoria=crea_hardware(mappa)\n",
    "\n",
    "\n",
    "compattata=compatta(memoria)\n",
    "\n",
    "answer_1=calcola_score(compattata)\n",
    "\n",
    "print(answer_1)\n"
   ]
  },
  {
   "cell_type": "code",
   "execution_count": 19,
   "metadata": {},
   "outputs": [],
   "source": [
    "#Funzioni parte 2\n",
    "\n",
    "\n",
    "def liste_memoria(lista):\n",
    "    buchi=[]\n",
    "    pieni=[]\n",
    "    indice=0\n",
    "    for i in range(len(lista)):\n",
    "        if i%2==1:\n",
    "            buchi.append([indice,lista[i]])\n",
    "            indice+=lista[i]\n",
    "        else:\n",
    "            pieni.append([indice,lista[i]])\n",
    "            indice+=lista[i]\n",
    "    return pieni, buchi\n",
    "\n",
    "\n",
    "def compatta_a_blocchi(lista):\n",
    "    lista_digit, lista_dot = liste_memoria(lista)\n",
    "    memoria=crea_hardware(lista)\n",
    "    #print(memoria)\n",
    "    for i in range(len(lista_digit)-1,0,-1):\n",
    "        for j in range(len(lista_dot)):\n",
    "            if lista_digit[i][1]==lista_dot[j][1] and lista_digit[i][0]>lista_dot[j][0] :\n",
    "                app=lista_digit[i][1]\n",
    "                for k in range(app):\n",
    "                    memoria[lista_digit[i][0]+k], memoria[lista_dot[j][0]+k]= memoria[lista_dot[j][0]+k], memoria[lista_digit[i][0]+k]\n",
    "                lista_dot.pop(j)\n",
    "                break\n",
    "            if lista_digit[i][1]<lista_dot[j][1] and lista_digit[i][0]>lista_dot[j][0]:\n",
    "                app=lista_digit[i][1]\n",
    "                for k in range(app):\n",
    "                    memoria[lista_digit[i][0]+k], memoria[lista_dot[j][0]+k]= memoria[lista_dot[j][0]+k], memoria[lista_digit[i][0]+k]\n",
    "                lista_dot[j][0]+=app\n",
    "                lista_dot[j][1]-=app\n",
    "                break\n",
    "            \n",
    "        #print(memoria)\n",
    "    return memoria\n",
    "\n",
    "\n",
    "\n",
    "def calcola_score_2(lista):\n",
    "    out=0\n",
    "    for i in range(len(lista)):\n",
    "        if lista[i]!='.':\n",
    "            out+=i*lista[i]\n",
    "    return out\n"
   ]
  },
  {
   "cell_type": "code",
   "execution_count": 21,
   "metadata": {},
   "outputs": [
    {
     "name": "stdout",
     "output_type": "stream",
     "text": [
      "6321896265143\n"
     ]
    }
   ],
   "source": [
    "# Calcola parte 2\n",
    "\n",
    "\n",
    "mappa=preprocessing(data[:-1])\n",
    "\n",
    "\n",
    "compattata=compatta_a_blocchi(mappa)\n",
    "\n",
    "answer_2=calcola_score_2(compattata)\n",
    "\n",
    "print(answer_2)"
   ]
  }
 ],
 "metadata": {
  "kernelspec": {
   "display_name": "aoc24_venv",
   "language": "python",
   "name": "python3"
  },
  "language_info": {
   "codemirror_mode": {
    "name": "ipython",
    "version": 3
   },
   "file_extension": ".py",
   "mimetype": "text/x-python",
   "name": "python",
   "nbconvert_exporter": "python",
   "pygments_lexer": "ipython3",
   "version": "3.10.4"
  },
  "orig_nbformat": 4
 },
 "nbformat": 4,
 "nbformat_minor": 2
}
