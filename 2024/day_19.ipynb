{
 "cells": [
  {
   "cell_type": "code",
   "execution_count": 1,
   "metadata": {},
   "outputs": [],
   "source": [
    "# Ingestion\n",
    "\n",
    "\n",
    "def leggi_file(nome_file):\n",
    "    try:\n",
    "        out = open(nome_file).read().splitlines()\n",
    "            \n",
    "    except FileNotFoundError:\n",
    "        print(f\"Errore: Il file {nome_file} non è stato trovato.\")\n",
    "    except ValueError as e:\n",
    "        print(f\"Errore durante la conversione dei dati: {e}\")\n",
    "    return out\n",
    "\n",
    "\n",
    "nome_file = 'input_day19.txt'\n",
    "nome_file_test= 'input_day19_test.txt'\n",
    "data= leggi_file(nome_file)\n",
    "data_test=leggi_file(nome_file_test)"
   ]
  },
  {
   "cell_type": "code",
   "execution_count": 2,
   "metadata": {},
   "outputs": [
    {
     "name": "stdout",
     "output_type": "stream",
     "text": [
      "206\n"
     ]
    }
   ],
   "source": [
    "# Calcolo parte 1\n",
    "from functools import cache\n",
    "\n",
    "\n",
    "answer_1=0\n",
    "testo=data\n",
    "\n",
    "patterns=testo[0].split(', ')\n",
    "designs=testo[2:]\n",
    "max_pattern=max(map(len, patterns))\n",
    "\n",
    "@cache\n",
    "def is_possible(stringa):\n",
    "    if stringa == '':\n",
    "        return True\n",
    "    for i in range(max_pattern+1):\n",
    "\n",
    "        if stringa[:i] in patterns and is_possible(stringa[i:]):\n",
    "            return True\n",
    "    return False\n",
    "\n",
    "for design in designs:\n",
    "    if is_possible(design)==True:\n",
    "        answer_1+=1\n",
    "\n",
    "print(answer_1)"
   ]
  },
  {
   "cell_type": "code",
   "execution_count": 7,
   "metadata": {},
   "outputs": [
    {
     "name": "stdout",
     "output_type": "stream",
     "text": [
      "622121814629343\n"
     ]
    }
   ],
   "source": [
    "# Calcolo parte 2\n",
    "from functools import cache\n",
    "\n",
    "\n",
    "answer_2=0\n",
    "testo=data\n",
    "\n",
    "patterns=testo[0].split(', ')\n",
    "designs=testo[2:]\n",
    "max_pattern=max(map(len, patterns))\n",
    "\n",
    "@cache\n",
    "def how_many_possible(stringa):\n",
    "    if stringa == '':\n",
    "        return 1\n",
    "    conta=0\n",
    "    for i in range(min(len(stringa),max_pattern)+1):\n",
    "        if stringa[:i] in patterns:\n",
    "            conta+=how_many_possible(stringa[i:])\n",
    "    return conta\n",
    "\n",
    "for design in designs:\n",
    "        answer_2+=how_many_possible(design)\n",
    "\n",
    "\n",
    "print(answer_2)"
   ]
  },
  {
   "cell_type": "code",
   "execution_count": null,
   "metadata": {},
   "outputs": [],
   "source": []
  }
 ],
 "metadata": {
  "kernelspec": {
   "display_name": "Python 3.10.12 ('aoc24_venv': venv)",
   "language": "python",
   "name": "python3"
  },
  "language_info": {
   "codemirror_mode": {
    "name": "ipython",
    "version": 3
   },
   "file_extension": ".py",
   "mimetype": "text/x-python",
   "name": "python",
   "nbconvert_exporter": "python",
   "pygments_lexer": "ipython3",
   "version": "3.10.12"
  },
  "orig_nbformat": 4,
  "vscode": {
   "interpreter": {
    "hash": "daf19009f39efa1f270818f9e850e8134138fd02bfeffb01770027799e2d9997"
   }
  }
 },
 "nbformat": 4,
 "nbformat_minor": 2
}
