{
 "cells": [
  {
   "cell_type": "code",
   "execution_count": 1,
   "metadata": {},
   "outputs": [],
   "source": [
    "#Ingestion\n",
    "\n",
    "def leggi_file_txt(nome_file):\n",
    "    out = []\n",
    "    with open(nome_file, 'r') as file:\n",
    "        for riga in file:\n",
    "                out.append(int(riga[:-1]))\n",
    "    return out\n",
    "\n",
    "nome_file = 'input_day22.txt'\n",
    "nome_file_test= 'input_day22_test.txt'\n",
    "data= leggi_file_txt(nome_file)\n",
    "data_test=leggi_file_txt(nome_file_test)"
   ]
  },
  {
   "cell_type": "code",
   "execution_count": 2,
   "metadata": {},
   "outputs": [],
   "source": [
    "# Funzioni parte 1\n",
    "import operator\n",
    "import math\n",
    "\n",
    "def mix(numero_1,numero_2):\n",
    "    return operator.xor(numero_1,numero_2)\n",
    "     \n",
    "\n",
    "def prune(numero):\n",
    "    return numero%16777216\n",
    "\n",
    "\n",
    "def funzione(numero):\n",
    "    out_1=prune(mix(numero*64,numero))\n",
    "    out_2=prune(mix(math.floor(out_1/32),out_1))\n",
    "    out_3=prune(mix(out_2*2048,out_2))\n",
    "\n",
    "    return out_3\n"
   ]
  },
  {
   "cell_type": "code",
   "execution_count": 4,
   "metadata": {},
   "outputs": [
    {
     "name": "stdout",
     "output_type": "stream",
     "text": [
      "19847565303\n"
     ]
    }
   ],
   "source": [
    "# Calcolo parte 1\n",
    "\n",
    "elenco=data\n",
    "\n",
    "answer_1=0\n",
    "\n",
    "for segreto in elenco:\n",
    "    app=segreto\n",
    "    for i in range(2000):\n",
    "        app=funzione(app)\n",
    "    answer_1+=app\n",
    "\n",
    "print(answer_1)"
   ]
  },
  {
   "cell_type": "code",
   "execution_count": 7,
   "metadata": {},
   "outputs": [],
   "source": [
    "# Funzioni parte 2\n",
    "\n",
    "def ultima_cifra(numero):\n",
    "    return int(str(numero)[-1])\n",
    "\n",
    "def variazione(lista):\n",
    "    out=[0]\n",
    "    for i in range(1,len(lista)):\n",
    "        out.append(lista[i]-lista[i-1])\n",
    "    return out\n",
    "\n",
    "def prima_occorrenza(lista):\n",
    "    out=0\n",
    "    return out"
   ]
  },
  {
   "cell_type": "code",
   "execution_count": 8,
   "metadata": {},
   "outputs": [
    {
     "name": "stdout",
     "output_type": "stream",
     "text": [
      "[0, 6, -1, -1, 0, 2, -2, 0, -2, 2]\n"
     ]
    }
   ],
   "source": [
    "app=[]\n",
    "\n",
    "x=123\n",
    "\n",
    "for i in range(10):\n",
    "    x=funzione(x)\n",
    "    app.append(ultima_cifra(x))\n",
    "\n",
    "print(variazione(app))"
   ]
  }
 ],
 "metadata": {
  "kernelspec": {
   "display_name": "Python 3.10.12 ('aoc24_venv': venv)",
   "language": "python",
   "name": "python3"
  },
  "language_info": {
   "codemirror_mode": {
    "name": "ipython",
    "version": 3
   },
   "file_extension": ".py",
   "mimetype": "text/x-python",
   "name": "python",
   "nbconvert_exporter": "python",
   "pygments_lexer": "ipython3",
   "version": "3.10.12"
  },
  "orig_nbformat": 4,
  "vscode": {
   "interpreter": {
    "hash": "daf19009f39efa1f270818f9e850e8134138fd02bfeffb01770027799e2d9997"
   }
  }
 },
 "nbformat": 4,
 "nbformat_minor": 2
}
