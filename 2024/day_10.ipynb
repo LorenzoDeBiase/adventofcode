{
 "cells": [
  {
   "cell_type": "code",
   "execution_count": 1,
   "metadata": {},
   "outputs": [],
   "source": [
    "# Ingestion\n",
    "\n",
    "\n",
    "def leggi_file_txt(nome_file):\n",
    "\n",
    "    lista_righe = []\n",
    "    try:\n",
    "        with open(nome_file, 'r') as file:\n",
    "            for riga in file:\n",
    "                numeri = list(map(int, list(riga[:-1])))\n",
    "                lista_righe.append(numeri)\n",
    "    except FileNotFoundError:\n",
    "        print(f\"Errore: Il file {nome_file} non è stato trovato.\")\n",
    "    except ValueError as e:\n",
    "        print(f\"Errore durante la conversione dei dati: {e}\")\n",
    "    return lista_righe\n",
    "\n",
    "\n",
    "nome_file = 'input_day10.txt'\n",
    "nome_file_test= 'input_day10_test.txt'\n",
    "data= leggi_file_txt(nome_file)\n",
    "data_test=leggi_file_txt(nome_file_test)\n"
   ]
  },
  {
   "cell_type": "code",
   "execution_count": 2,
   "metadata": {},
   "outputs": [],
   "source": [
    "#Funzioni parte 1\n",
    "\n",
    "\n",
    "\n",
    "\n",
    "def orlo_matrice(A):\n",
    "    out=[]\n",
    "    riga_orlo=[]\n",
    "    for i in range(len(A)):\n",
    "        riga_orlo.append(-1)\n",
    "    app= [riga_orlo] + A + [riga_orlo]\n",
    "    for riga in app:\n",
    "        out.append( [-1] + riga + [-1] )\n",
    "    return out\n",
    "\n",
    "\n",
    "def trova_inizi(lista):\n",
    "    out=[]\n",
    "    for i in range(len(lista)):\n",
    "        for j in range(len(lista)):\n",
    "            if lista[i][j]==0:\n",
    "                out.append([i,j])\n",
    "    return out\n",
    "\n",
    "def trova_vicini(x , y, mappa):\n",
    "    out=[]\n",
    "    if mappa[x+1] [y]== mappa[x][y] + 1:\n",
    "        out.append([x+1,y])\n",
    "    if mappa[x][y+1]== mappa[x][y] +1:\n",
    "        out.append([x,y+1])\n",
    "    if mappa[x-1] [y]== mappa[x][y]+1:\n",
    "        out.append([x-1,y])\n",
    "    if mappa[x][y-1]== mappa[x][y]+1:\n",
    "        out.append([x,y-1])\n",
    "    return out\n",
    "    \n",
    "\n",
    "def flat_list(lista):\n",
    "    return [ x for xs in lista for x in xs ]   \n",
    "\n",
    "def rimuovi_duplicati(lista):\n",
    "    out=[]\n",
    "    for item in lista:\n",
    "        if item not in out:\n",
    "            out.append(item)\n",
    "    return  out"
   ]
  },
  {
   "cell_type": "code",
   "execution_count": 3,
   "metadata": {},
   "outputs": [
    {
     "name": "stdout",
     "output_type": "stream",
     "text": [
      "688\n"
     ]
    }
   ],
   "source": [
    "#Calcolo parte 1\n",
    "\n",
    "answer_1=0\n",
    "\n",
    "mappa=orlo_matrice(data)\n",
    "inizi=trova_inizi(mappa)\n",
    "\n",
    "\n",
    "\n",
    "for inizio in inizi:\n",
    "    posizioni_attuali=[inizio]\n",
    "    passo=0\n",
    "    while(passo<9):\n",
    "        app=[]\n",
    "        for posizione in posizioni_attuali:\n",
    "            app.append(trova_vicini(posizione[0], posizione[1], mappa))\n",
    "        posizioni_attuali=rimuovi_duplicati(flat_list(app))\n",
    "        passo+=1\n",
    "        \n",
    "    answer_1+=len(posizioni_attuali)\n",
    "\n",
    "\n",
    "print(answer_1)"
   ]
  },
  {
   "cell_type": "code",
   "execution_count": 4,
   "metadata": {},
   "outputs": [
    {
     "name": "stdout",
     "output_type": "stream",
     "text": [
      "1459\n"
     ]
    }
   ],
   "source": [
    "#Calcolo parte 2\n",
    "\n",
    "answer_2=0\n",
    "\n",
    "mappa=orlo_matrice(data)\n",
    "inizi=trova_inizi(mappa)\n",
    "\n",
    "\n",
    "\n",
    "for inizio in inizi:\n",
    "    posizioni_attuali=[inizio]\n",
    "    passo=0\n",
    "    while(passo<9):\n",
    "        app=[]\n",
    "        for posizione in posizioni_attuali:\n",
    "            app.append(trova_vicini(posizione[0], posizione[1], mappa))\n",
    "        posizioni_attuali=flat_list(app)\n",
    "        passo+=1\n",
    "        \n",
    "    answer_2+=len(posizioni_attuali)\n",
    "\n",
    "\n",
    "print(answer_2)"
   ]
  }
 ],
 "metadata": {
  "kernelspec": {
   "display_name": "aoc24_venv",
   "language": "python",
   "name": "python3"
  },
  "language_info": {
   "codemirror_mode": {
    "name": "ipython",
    "version": 3
   },
   "file_extension": ".py",
   "mimetype": "text/x-python",
   "name": "python",
   "nbconvert_exporter": "python",
   "pygments_lexer": "ipython3",
   "version": "3.10.4"
  },
  "orig_nbformat": 4
 },
 "nbformat": 4,
 "nbformat_minor": 2
}
