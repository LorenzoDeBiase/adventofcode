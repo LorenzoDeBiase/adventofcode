{
 "cells": [
  {
   "cell_type": "code",
   "execution_count": 1,
   "metadata": {},
   "outputs": [],
   "source": [
    "#Import data\n",
    "\n",
    "\n",
    "def leggi_file_txt(nome_file):\n",
    "\n",
    "    lista_righe = []\n",
    "    try:\n",
    "        with open(nome_file, 'r') as file:\n",
    "            for riga in file:\n",
    "                lettere = list(riga[:-1])\n",
    "                lista_righe.append(lettere)\n",
    "    except FileNotFoundError:\n",
    "        print(f\"Errore: Il file {nome_file} non è stato trovato.\")\n",
    "    except ValueError as e:\n",
    "        print(f\"Errore durante la conversione dei dati: {e}\")\n",
    "    return lista_righe\n",
    "\n",
    "nome_file = 'input_day12.txt'\n",
    "nome_file_test= 'input_day12_test.txt'\n",
    "data=leggi_file_txt(nome_file)\n",
    "data_test=leggi_file_txt(nome_file_test)"
   ]
  },
  {
   "cell_type": "code",
   "execution_count": 2,
   "metadata": {},
   "outputs": [],
   "source": [
    "#Funzioni parte 1\n",
    "\n",
    "import networkx as nx\n",
    "\n",
    "def crea_dizionario(lista):\n",
    "    out={}\n",
    "    for i in range(len(lista)):\n",
    "        for j in range(len(lista[0])):\n",
    "            if lista[i][j] not in out.keys():\n",
    "                out[lista[i][j]]=[(i,j)]\n",
    "            else:\n",
    "                out[lista[i][j]].append((i,j))\n",
    "    return out\n",
    "\n",
    "def are_adj(a,b):\n",
    "    if (a[0]==b[0]+1 and a[1]==b[1]) or (a[0]==b[0]-1 and  a[1]==b[1]  ) or (a[0]==b[0] and a[1]==b[1]+1 ) or ( a[0]==b[0] and a[1]==b[1]-1 ) :\n",
    "        return 1\n",
    "    return 0\n",
    "\n",
    "\n",
    "def crea_grafo(lista):\n",
    "    G = nx.Graph()\n",
    "    G.add_nodes_from(lista)\n",
    "    lista_nodi=list(G.nodes())\n",
    "    for i in range(len(lista_nodi)):\n",
    "        for j in range(i,len(lista_nodi)): \n",
    "            if are_adj(lista_nodi[i],lista_nodi[j]):\n",
    "                G.add_edge(lista_nodi[i],lista_nodi[j])\n",
    "    return G\n",
    "\n",
    "def score(componente, G):\n",
    "    area=0\n",
    "    perimetro=0\n",
    "    for nodo in componente:\n",
    "        area+=1\n",
    "        perimetro+=4-G.degree(nodo)    \n",
    "    return area*perimetro"
   ]
  },
  {
   "cell_type": "code",
   "execution_count": 4,
   "metadata": {},
   "outputs": [
    {
     "name": "stdout",
     "output_type": "stream",
     "text": [
      "1450816\n"
     ]
    }
   ],
   "source": [
    "#Calcolo parte 1\n",
    "\n",
    "answer_1=0\n",
    "dizionario=crea_dizionario(data)\n",
    "\n",
    "for lettera in dizionario.keys():\n",
    "    grafo=crea_grafo(dizionario[lettera])\n",
    "    for item in list(nx.connected_components(grafo)):\n",
    "        answer_1+=score(list(item),grafo)\n",
    "\n",
    "print(answer_1)\n",
    "\n"
   ]
  },
  {
   "cell_type": "code",
   "execution_count": null,
   "metadata": {},
   "outputs": [],
   "source": [
    "#Funzioni parte 2\n",
    "\n",
    "\n"
   ]
  }
 ],
 "metadata": {
  "kernelspec": {
   "display_name": "aoc24_venv",
   "language": "python",
   "name": "python3"
  },
  "language_info": {
   "codemirror_mode": {
    "name": "ipython",
    "version": 3
   },
   "file_extension": ".py",
   "mimetype": "text/x-python",
   "name": "python",
   "nbconvert_exporter": "python",
   "pygments_lexer": "ipython3",
   "version": "3.10.4"
  }
 },
 "nbformat": 4,
 "nbformat_minor": 2
}
