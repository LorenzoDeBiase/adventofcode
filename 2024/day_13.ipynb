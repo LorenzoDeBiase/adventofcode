{
 "cells": [
  {
   "cell_type": "code",
   "execution_count": 1,
   "metadata": {},
   "outputs": [],
   "source": [
    "# Ingestion\n",
    "\n",
    "def leggi_file_txt(nome_file):\n",
    "    out=[]\n",
    "    try:\n",
    "        with open(nome_file, 'r') as file:\n",
    "            raw = file.read()\n",
    "            blocks = raw.strip().split('\\n\\n')\n",
    "            for block in blocks:\n",
    "                blocco=[]\n",
    "                app=block.replace(\"Button A: X+\", \"\").strip()\n",
    "                app=app.replace(\", Y+\", \";\").strip()\n",
    "                \n",
    "                app=app.replace(\"Button B: X+\", \"\").strip()\n",
    "                app=app.replace(\"Prize: X=\", \"\").strip()\n",
    "                app=app.replace(\", Y=\", \";\").strip()\n",
    "                app=app.split('\\n')\n",
    "                for item in app:\n",
    "                    coppia=item.split(';')\n",
    "                    blocco.append([int(coppia[0]), int(coppia[1])])\n",
    "                out.append(blocco)\n",
    "\n",
    "        return out\n",
    "    except FileNotFoundError:\n",
    "        print(f\"Errore: il file '{nome_file}' non è stato trovato.\")\n",
    "    except Exception as e:\n",
    "        print(f\"Si è verificato un errore: {e}\")\n",
    "\n",
    "\n",
    "nome_file = 'input_day13.txt'\n",
    "nome_file_test= 'input_day13_test.txt'\n",
    "data= leggi_file_txt(nome_file)\n",
    "data_test=leggi_file_txt(nome_file_test)\n"
   ]
  },
  {
   "cell_type": "code",
   "execution_count": 2,
   "metadata": {},
   "outputs": [],
   "source": [
    "#Funzioni parte 1\n",
    "\n",
    "\n",
    "def trova_sol(A, B, premio):\n",
    "    out=0\n",
    "    success=0\n",
    "    for i in range(101):\n",
    "        for j in range(101):\n",
    "          if i*A[0]+j*B[0]==premio[0] and i*A[1]+j*B[1]==premio[1]:\n",
    "              out=3*i+j\n",
    "    return out"
   ]
  },
  {
   "cell_type": "code",
   "execution_count": 3,
   "metadata": {},
   "outputs": [
    {
     "name": "stdout",
     "output_type": "stream",
     "text": [
      "26599\n"
     ]
    }
   ],
   "source": [
    "#Calcola parte 1\n",
    "answer_1=0\n",
    "\n",
    "testo=data\n",
    "\n",
    "for item in testo:\n",
    "    answer_1+=trova_sol(item[0], item[1], item[2])\n",
    "    \n",
    "    \n",
    "print(answer_1)"
   ]
  },
  {
   "cell_type": "code",
   "execution_count": 4,
   "metadata": {},
   "outputs": [],
   "source": [
    "#Funzioni parte 2\n",
    "import numpy as np\n",
    "\n",
    "\n",
    "    \n",
    "def trova_sol_gen(item): \n",
    "    out=0\n",
    "    aggiunta=np.array([10000000000000, 10000000000000])\n",
    "    a=np.array([item[0],item[1]])\n",
    "    b = np.array(item[2])+aggiunta\n",
    "    x = np.linalg.solve(a.transpose(), b)\n",
    "    app=[round(float(item),3) for item in x]\n",
    "    if app[0].is_integer() and  app[1].is_integer():\n",
    "        out=3*app[0]+app[1]\n",
    "    return out\n",
    "\n",
    "\n",
    "\n"
   ]
  },
  {
   "cell_type": "code",
   "execution_count": 5,
   "metadata": {},
   "outputs": [
    {
     "name": "stdout",
     "output_type": "stream",
     "text": [
      "106228669504887.0\n"
     ]
    }
   ],
   "source": [
    "#Calcola parte 1\n",
    "answer_2=0\n",
    "\n",
    "\n",
    "testo=data\n",
    "\n",
    "for problema in testo:\n",
    "    answer_2+=trova_sol_gen(problema)\n",
    "\n",
    "    \n",
    "    \n",
    "print(answer_2)\n"
   ]
  }
 ],
 "metadata": {
  "kernelspec": {
   "display_name": "aoc24_venv",
   "language": "python",
   "name": "python3"
  },
  "language_info": {
   "codemirror_mode": {
    "name": "ipython",
    "version": 3
   },
   "file_extension": ".py",
   "mimetype": "text/x-python",
   "name": "python",
   "nbconvert_exporter": "python",
   "pygments_lexer": "ipython3",
   "version": "3.10.4"
  }
 },
 "nbformat": 4,
 "nbformat_minor": 2
}
