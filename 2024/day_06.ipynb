{
 "cells": [
  {
   "cell_type": "code",
   "execution_count": 2,
   "metadata": {},
   "outputs": [],
   "source": [
    "#Import data\n",
    "\n",
    "\n",
    "def leggi_file_txt(nome_file):\n",
    "\n",
    "    lista_righe = []\n",
    "    try:\n",
    "        with open(nome_file, 'r') as file:\n",
    "            for riga in file:\n",
    "                lettere = list(riga)\n",
    "                lista_righe.append(lettere)\n",
    "    except FileNotFoundError:\n",
    "        print(f\"Errore: Il file {nome_file} non è stato trovato.\")\n",
    "    except ValueError as e:\n",
    "        print(f\"Errore durante la conversione dei dati: {e}\")\n",
    "    return lista_righe\n",
    "\n",
    "nome_file = 'input_day6.txt'\n",
    "nome_file_test= 'input_day6_test.txt'\n",
    "data= leggi_file_txt(nome_file)\n",
    "data_test=leggi_file_txt(nome_file_test)"
   ]
  },
  {
   "cell_type": "code",
   "execution_count": 3,
   "metadata": {},
   "outputs": [],
   "source": [
    "#Funzioni parte 1\n",
    "\n",
    "def trova_inizio(A):\n",
    "    for i in range(len(A)):\n",
    "        for j in range(len(A)):\n",
    "            if A[i][j]=='^':\n",
    "                return [i,j]\n",
    "\n",
    "def trova_ostacoli(A):\n",
    "    out=[]\n",
    "    for i in range(len(A)):\n",
    "        for j in range(len(A)):\n",
    "            if A[i][j]=='#':\n",
    "                out.append([i,j])\n",
    "    return out\n",
    "\n",
    "def movimento(x , y , direzione, ostacoli):\n",
    "    if direzione=='su':\n",
    "        if [x-1,y] not in ostacoli:\n",
    "            return x-1, y , 'su'\n",
    "        else:\n",
    "            return x, y , 'destra'\n",
    "\n",
    "    if direzione=='destra':\n",
    "        if [x,y+1] not in ostacoli:\n",
    "            return x, y+1 , 'destra'\n",
    "        else:\n",
    "            return x, y , 'giu'\n",
    "\n",
    "    if direzione=='giu':\n",
    "        if [x+1,y] not in ostacoli:\n",
    "            return x+1, y, 'giu'\n",
    "        else:\n",
    "            return x, y , 'sinistra'\n",
    "\n",
    "    if direzione=='sinistra':\n",
    "        if [x,y-1] not in ostacoli:\n",
    "            return x, y-1, 'sinistra'\n",
    "        else:\n",
    "            return x, y , 'su'"
   ]
  },
  {
   "cell_type": "code",
   "execution_count": 4,
   "metadata": {},
   "outputs": [
    {
     "name": "stdout",
     "output_type": "stream",
     "text": [
      "5534\n"
     ]
    }
   ],
   "source": [
    "#Calcolo parte 1\n",
    "\n",
    "answer_1=0\n",
    "\n",
    "mappa=data\n",
    "\n",
    "posizione=trova_inizio(mappa)\n",
    "direzione='su'\n",
    "ostacoli=trova_ostacoli(mappa)\n",
    "\n",
    "storico_posizioni=[]\n",
    "\n",
    "\n",
    "\n",
    "while(posizione[0]>=0 and posizione[0]<len(mappa) and posizione[1]>=0 and posizione[1]<len(mappa[0])):\n",
    "    if posizione not in storico_posizioni:\n",
    "        storico_posizioni.append(posizione)\n",
    "    x,y, direzione = movimento(posizione[0], posizione[1], direzione, ostacoli)\n",
    "    posizione=[x,y]\n",
    "\n",
    "\n",
    "answer_1=len(storico_posizioni)\n",
    "print(answer_1)\n",
    "\n",
    "\n"
   ]
  },
  {
   "cell_type": "code",
   "execution_count": 32,
   "metadata": {},
   "outputs": [],
   "source": [
    "#Funzioni parte 2\n",
    "\n",
    "import copy\n",
    "\n",
    "def ostacoli_incontrati(posizione, direzione, ostacoli, mappa):\n",
    "    out=[]\n",
    "    while(posizione[0]>=0 and posizione[0]<len(mappa) and posizione[1]>=0 and posizione[1]<len(mappa[0])):\n",
    "            x,y, direzione = movimento(posizione[0], posizione[1], direzione, ostacoli)\n",
    "            if posizione==[x,y]:\n",
    "                out.append([x,y,direzione])\n",
    "            posizione=[x,y]\n",
    "    return out\n",
    "\n",
    "def strada_libera(posizione_1, posizione_2, direzione, ostacoli):\n",
    "    app=posizione_1\n",
    "    if direzione=='su':\n",
    "        while app!=posizione_2:\n",
    "            if app in ostacoli and app!=posizione_1:\n",
    "                return 0\n",
    "            app[0]-=1\n",
    "\n",
    "            \n",
    "    if direzione=='destra':\n",
    "        while app!=posizione_2 :\n",
    "            if app in ostacoli and app!=posizione_1:\n",
    "                return 0\n",
    "            app[1]+=1\n",
    "\n",
    "            \n",
    "    if direzione=='giu':\n",
    "        while app!=posizione_2:\n",
    "            if app in ostacoli and app!=posizione_1:\n",
    "                return 0\n",
    "            app[0]+=1\n",
    "            \n",
    "    if direzione=='sinistra':\n",
    "        while app!=posizione_2:\n",
    "            if app in ostacoli and app!=posizione_1:\n",
    "                return 0\n",
    "            app[1]-=1    \n",
    "    return 1\n",
    "\n",
    "def is_looping(mappa,posizione,direzione,ostacoli):\n",
    "    posizioni=[]\n",
    "    while(posizione[0]>=0 and posizione[0]<len(mappa) and posizione[1]>=0 and posizione[1]<len(mappa[0])):\n",
    "        x,y, direzione = movimento(posizione[0], posizione[1], direzione, ostacoli)\n",
    "        posizione=[x,y]\n",
    "        if [posizione, direzione] in posizioni:\n",
    "            return 1\n",
    "        else:\n",
    "            posizioni.append([posizione, direzione])\n",
    "    return 0\n",
    "        "
   ]
  },
  {
   "cell_type": "code",
   "execution_count": 35,
   "metadata": {},
   "outputs": [
    {
     "name": "stderr",
     "output_type": "stream",
     "text": [
      "100%|██████████| 130/130 [2:04:05<00:00, 57.27s/it]"
     ]
    },
    {
     "name": "stdout",
     "output_type": "stream",
     "text": [
      "2262\n"
     ]
    },
    {
     "name": "stderr",
     "output_type": "stream",
     "text": [
      "\n"
     ]
    }
   ],
   "source": [
    "#Calcolo parte 2\n",
    "from tqdm import tqdm\n",
    "import copy\n",
    "answer_2=0\n",
    "\n",
    "mappa=data\n",
    "posizione=trova_inizio(mappa)\n",
    "direzione='su'\n",
    "ostacoli=trova_ostacoli(mappa)\n",
    "\n",
    "app=copy.deepcopy(ostacoli)\n",
    "for i in tqdm(range(len(mappa))):\n",
    "    for j in range(len(mappa[0])):\n",
    "        app.append([i,j])\n",
    "        if is_looping(mappa,posizione,direzione,app)==1:\n",
    "            answer_2+=1\n",
    "        if [i,j] not in ostacoli:\n",
    "            app.remove([i,j])\n",
    "print(answer_2)"
   ]
  }
 ],
 "metadata": {
  "kernelspec": {
   "display_name": "aoc24_venv",
   "language": "python",
   "name": "python3"
  },
  "language_info": {
   "codemirror_mode": {
    "name": "ipython",
    "version": 3
   },
   "file_extension": ".py",
   "mimetype": "text/x-python",
   "name": "python",
   "nbconvert_exporter": "python",
   "pygments_lexer": "ipython3",
   "version": "3.10.4"
  }
 },
 "nbformat": 4,
 "nbformat_minor": 2
}
