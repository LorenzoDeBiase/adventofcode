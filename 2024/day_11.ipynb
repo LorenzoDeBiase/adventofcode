{
 "cells": [
  {
   "cell_type": "code",
   "execution_count": 1,
   "metadata": {},
   "outputs": [],
   "source": [
    "# Ingestion\n",
    "\n",
    "\n",
    "def leggi_file_txt(nome_file):\n",
    "\n",
    "    lista_righe = []\n",
    "    try:\n",
    "        with open(nome_file, 'r') as file:\n",
    "            for riga in file:\n",
    "                numeri = list(map(int, riga.split()))\n",
    "                \n",
    "    except FileNotFoundError:\n",
    "        print(f\"Errore: Il file {nome_file} non è stato trovato.\")\n",
    "    except ValueError as e:\n",
    "        print(f\"Errore durante la conversione dei dati: {e}\")\n",
    "    return numeri\n",
    "\n",
    "\n",
    "nome_file = 'input_day11.txt'\n",
    "nome_file_test= 'input_day11_test.txt'\n",
    "data= leggi_file_txt(nome_file)\n",
    "data_test=leggi_file_txt(nome_file_test)\n"
   ]
  },
  {
   "cell_type": "code",
   "execution_count": 2,
   "metadata": {},
   "outputs": [],
   "source": [
    "#Funzioni parte 1\n",
    "\n",
    "def blink(lista):\n",
    "    out=[]\n",
    "    for i in range(len(lista)):\n",
    "        if lista[i]==0:\n",
    "            out.append(1)\n",
    "        elif len(str(lista[i]))%2==0:\n",
    "            medio=int(len(str(lista[i]))/2)\n",
    "            out.append(int(str(lista[i])[:medio]))\n",
    "            out.append(int(str(lista[i])[medio:]))\n",
    "        else:\n",
    "            out.append(lista[i]*2024)\n",
    "    return out\n"
   ]
  },
  {
   "cell_type": "code",
   "execution_count": 3,
   "metadata": {},
   "outputs": [
    {
     "name": "stdout",
     "output_type": "stream",
     "text": [
      "187738\n"
     ]
    }
   ],
   "source": [
    "#Calcolo parte 1\n",
    "\n",
    "answer_1=0\n",
    "\n",
    "attuale=data\n",
    "for i in range(25):\n",
    "    attuale=blink(attuale)\n",
    "\n",
    "answer_1=len(attuale)\n",
    "\n",
    "print(answer_1)\n"
   ]
  },
  {
   "cell_type": "code",
   "execution_count": 4,
   "metadata": {},
   "outputs": [],
   "source": [
    "#Funzioni parte 2\n",
    "\n",
    "\n",
    "def blink_ottimizzato(dizionario):\n",
    "    out ={}\n",
    "    for key in list(dizionario.keys()):\n",
    "        if key==0:\n",
    "            if 1 in list(out.keys()):\n",
    "                out[1]+=dizionario[key]\n",
    "            else :\n",
    "                out[1]=dizionario[key]\n",
    "        elif len(str(key))%2==0:\n",
    "            medio=int(len(str(key))/2)\n",
    "            if int(str(key)[:medio]) in list(out.keys()):\n",
    "                out[int(str(key)[:medio])]+=dizionario[key]\n",
    "            else:\n",
    "                 out[int(str(key)[:medio])]=dizionario[key]\n",
    "            if int(str(key)[medio:]) in list(out.keys()):\n",
    "                out[int(str(key)[medio:])]+=dizionario[key]\n",
    "            else: \n",
    "                out[int(str(key)[medio:])]=dizionario[key]\n",
    "        else:\n",
    "            app=key*2024\n",
    "            if  app in list(out.keys()):\n",
    "                out[app]+=dizionario[key]\n",
    "\n",
    "            else:\n",
    "                out[app]=dizionario[key]\n",
    "    return out\n",
    "\n",
    "def init(lista):\n",
    "    out={}\n",
    "    for i in range(len(lista)):\n",
    "        if lista[i] in list(out.keys()):\n",
    "            out[lista[i]]+=1\n",
    "        else:\n",
    "            out[lista[i]]=1\n",
    "    return out\n",
    "\n",
    "def score(dizionario):\n",
    "    out=0\n",
    "\n",
    "    for key in list(dizionario.keys()):\n",
    "        out+=dizionario[key]\n",
    "\n",
    "    return out\n",
    "\n"
   ]
  },
  {
   "cell_type": "code",
   "execution_count": 5,
   "metadata": {},
   "outputs": [
    {
     "name": "stdout",
     "output_type": "stream",
     "text": [
      "223767210249237\n"
     ]
    }
   ],
   "source": [
    "#Calcolo parte 2\n",
    "\n",
    "answer_2=0\n",
    "\n",
    "\n",
    "attuale=init(data)\n",
    "\n",
    "\n",
    "for i in range(75):\n",
    "        attuale=blink_ottimizzato(attuale)\n",
    "\n",
    "\n",
    "\n",
    "answer_2=score(attuale)\n",
    "print(answer_2)\n",
    "\n",
    "\n"
   ]
  }
 ],
 "metadata": {
  "kernelspec": {
   "display_name": "Python 3.10.12 64-bit",
   "language": "python",
   "name": "python3"
  },
  "language_info": {
   "codemirror_mode": {
    "name": "ipython",
    "version": 3
   },
   "file_extension": ".py",
   "mimetype": "text/x-python",
   "name": "python",
   "nbconvert_exporter": "python",
   "pygments_lexer": "ipython3",
   "version": "3.10.12"
  },
  "orig_nbformat": 4,
  "vscode": {
   "interpreter": {
    "hash": "916dbcbb3f70747c44a77c7bcd40155683ae19c65e1c03b4aa3499c5328201f1"
   }
  }
 },
 "nbformat": 4,
 "nbformat_minor": 2
}
