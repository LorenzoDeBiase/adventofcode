{
 "cells": [
  {
   "cell_type": "code",
   "execution_count": 8,
   "metadata": {},
   "outputs": [],
   "source": [
    "# Ingestion\n",
    "\n",
    "def leggi_file_txt(nome_file):\n",
    "    out=[]\n",
    "    try:\n",
    "        with open(nome_file, 'r') as file:\n",
    "            for riga in list(file):\n",
    "                app=riga[:-1].split(' v=')\n",
    "                app=[list(map(int, app[0].replace('p=', '').split(','))), list(map(int,app[1].split(',')))]\n",
    "                out.append(app)\n",
    "    except FileNotFoundError:\n",
    "        print(f\"Errore: il file '{nome_file}' non è stato trovato.\")\n",
    "    except Exception as e:\n",
    "        print(f\"Si è verificato un errore: {e}\")\n",
    "    \n",
    "    return out\n",
    "\n",
    "nome_file = 'input_day14.txt'\n",
    "nome_file_test= 'input_day14_test.txt'\n",
    "data= leggi_file_txt(nome_file)\n",
    "data_test=leggi_file_txt(nome_file_test)"
   ]
  },
  {
   "cell_type": "code",
   "execution_count": 9,
   "metadata": {},
   "outputs": [],
   "source": [
    "# Funzioni parte 1\n",
    "\n",
    "\n",
    "def movimento(posizione, vel, secondi, size):\n",
    "    out=[]\n",
    "    out.append((posizione[0]+secondi * vel[0])%size[0])\n",
    "    out.append((posizione[1]+secondi * vel[1])%size[1])\n",
    "    return out\n",
    "\n",
    "def score(lista, size):\n",
    "    sep_righe=int((size[0]-1)/2)\n",
    "    sep_colonne=int((size[1]-1)/2)\n",
    "    out=0\n",
    "    primo=0\n",
    "    secondo=0\n",
    "    terzo=0\n",
    "    quarto=0\n",
    "    for coordinate in lista:\n",
    "        if coordinate[0]<sep_righe:\n",
    "            if coordinate[1]<sep_colonne:\n",
    "                primo+=1\n",
    "            elif coordinate[1]>sep_colonne:\n",
    "                secondo+=1\n",
    "        elif coordinate[0]>sep_righe:\n",
    "            if coordinate[1]<sep_colonne:\n",
    "                terzo+=1\n",
    "            elif coordinate[1]>sep_colonne:\n",
    "                quarto+=1\n",
    "    out=primo*secondo*terzo*quarto\n",
    "    return out"
   ]
  },
  {
   "cell_type": "code",
   "execution_count": 10,
   "metadata": {},
   "outputs": [
    {
     "name": "stdout",
     "output_type": "stream",
     "text": [
      "218295000\n"
     ]
    }
   ],
   "source": [
    "#Calcolo parte 1\n",
    "\n",
    "answer_1=0\n",
    "istruzioni=data\n",
    "size=[101,103]\n",
    "\n",
    "sec=100\n",
    "lista_movimenti=[]\n",
    "for riga in istruzioni:\n",
    "    lista_movimenti.append(movimento(riga[0], riga[1], sec, size))\n",
    "\n",
    "\n",
    "answer_1=score(lista_movimenti, size)\n",
    "\n",
    "print(answer_1)\n",
    "\n"
   ]
  },
  {
   "cell_type": "code",
   "execution_count": 16,
   "metadata": {},
   "outputs": [],
   "source": [
    "#Calcolo parte 2\n",
    "\n",
    "import numpy as np\n",
    "\n",
    "def crea_matrice(lista, size):\n",
    "    out=np.zeros(size)\n",
    "    for coordinate in lista:\n",
    "        out[coordinate[0]][coordinate[1]]+=1\n",
    "    return out"
   ]
  },
  {
   "cell_type": "code",
   "execution_count": null,
   "metadata": {},
   "outputs": [],
   "source": [
    "#Calcolo parte 2\n",
    "import matplotlib.pyplot as plt\n",
    "answer_2=0\n",
    "istruzioni=data\n",
    "#size=[7,11]\n",
    "size=[101,103]\n",
    "sep_righe=int((size[0]-1)/2)\n",
    "sep_colonne=int((size[1]-1)/2)\n",
    "\n",
    "for sec in range(1, 7000):\n",
    "    lista_movimenti=[]\n",
    "    for riga in istruzioni:\n",
    "        lista_movimenti.append(movimento(riga[0], riga[1], sec, size))\n",
    "    if  [sep_righe, sep_colonne] in lista_movimenti:\n",
    "        plt.imshow(crea_matrice(lista_movimenti, size))\n",
    "        plt.savefig('out_14/'+str(sec))\n",
    "\n",
    "\n",
    "\n"
   ]
  }
 ],
 "metadata": {
  "kernelspec": {
   "display_name": "Python 3.10.12 ('aoc24_venv': venv)",
   "language": "python",
   "name": "python3"
  },
  "language_info": {
   "codemirror_mode": {
    "name": "ipython",
    "version": 3
   },
   "file_extension": ".py",
   "mimetype": "text/x-python",
   "name": "python",
   "nbconvert_exporter": "python",
   "pygments_lexer": "ipython3",
   "version": "3.10.12"
  },
  "orig_nbformat": 4,
  "vscode": {
   "interpreter": {
    "hash": "daf19009f39efa1f270818f9e850e8134138fd02bfeffb01770027799e2d9997"
   }
  }
 },
 "nbformat": 4,
 "nbformat_minor": 2
}
