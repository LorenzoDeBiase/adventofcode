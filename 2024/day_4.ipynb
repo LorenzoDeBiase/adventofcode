{
 "cells": [
  {
   "cell_type": "code",
   "execution_count": 1,
   "metadata": {},
   "outputs": [],
   "source": [
    "#Import data\n",
    "\n",
    "\n",
    "def leggi_file_txt(nome_file):\n",
    "\n",
    "    lista_righe = []\n",
    "    try:\n",
    "        with open(nome_file, 'r') as file:\n",
    "            for riga in file:\n",
    "                lettere = list(riga[:-1])\n",
    "                lista_righe.append(lettere)\n",
    "    except FileNotFoundError:\n",
    "        print(f\"Errore: Il file {nome_file} non è stato trovato.\")\n",
    "    except ValueError as e:\n",
    "        print(f\"Errore durante la conversione dei dati: {e}\")\n",
    "    return lista_righe\n",
    "\n",
    "nome_file = 'input_day4.txt'\n",
    "nome_file_test= 'input_day4_test.txt'\n",
    "data= leggi_file_txt(nome_file)\n",
    "data_test=leggi_file_txt(nome_file_test)"
   ]
  },
  {
   "cell_type": "code",
   "execution_count": 2,
   "metadata": {},
   "outputs": [],
   "source": [
    "#Funzioni parte 1\n",
    "\n",
    "def orlo_matrice(A):\n",
    "    out=[]\n",
    "    riga_orlo=[]\n",
    "    for i in range(len(A)):\n",
    "        riga_orlo.append('O')\n",
    "    lista_orlo=[riga_orlo, riga_orlo ,riga_orlo]\n",
    "    app= lista_orlo +A +lista_orlo\n",
    "    for riga in app:\n",
    "        out.append(['O', 'O' , 'O'] + riga + ['O', 'O' , 'O'])\n",
    "    return out\n",
    "\n",
    "def controlla_torre(A, x, y):\n",
    "    conta=0\n",
    "    if A[x][y-1]=='M' and A[x][y-2]=='A' and  A[x][y-3]=='S':\n",
    "        conta+=1\n",
    "    if A[x][y+1]=='M' and A[x][y+2]=='A' and  A[x][y+3]=='S':\n",
    "        conta+=1\n",
    "    if A[x-1][y]=='M' and A[x-2][y]=='A' and  A[x-3][y]=='S':\n",
    "        conta+=1\n",
    "    if A[x+1][y]=='M' and A[x+2][y]=='A' and  A[x+3][y]=='S':\n",
    "        conta+=1\n",
    "    return conta\n",
    "\n",
    "def controlla_alfiere(A, x, y):\n",
    "    conta=0\n",
    "    if A[x+1][y+1]=='M' and A[x+2][y+2]=='A' and  A[x+3][y+3]=='S':\n",
    "        conta+=1\n",
    "    if A[x+1][y-1]=='M' and A[x+2][y-2]=='A' and  A[x+3][y-3]=='S':\n",
    "        conta+=1\n",
    "    if A[x-1][y+1]=='M' and A[x-2][y+2]=='A' and  A[x-3][y+3]=='S':\n",
    "        conta+=1\n",
    "    if A[x-1][y-1]=='M' and A[x-2][y-2]=='A' and  A[x-3][y-3]=='S':\n",
    "        conta+=1\n",
    "    return conta\n",
    "\n",
    "def conta_xmas(A):\n",
    "    out=0\n",
    "    for i in  range(3,len(A)-3):\n",
    "        for j in range(3,len(A[i])-3):\n",
    "            if A[i][j]=='X':\n",
    "                app=controlla_torre(A, i, j)+controlla_alfiere(A, i, j)\n",
    "                out+=app\n",
    "    return out"
   ]
  },
  {
   "cell_type": "code",
   "execution_count": 17,
   "metadata": {},
   "outputs": [
    {
     "name": "stdout",
     "output_type": "stream",
     "text": [
      "2458\n"
     ]
    }
   ],
   "source": [
    "#Calcola parte 1\n",
    "\n",
    "testo=data\n",
    "\n",
    "answer_1=0\n",
    "\n",
    "testo=orlo_matrice(testo)\n",
    "\n",
    "answer_1=conta_xmas(testo)\n",
    "\n",
    "print(answer_1)"
   ]
  },
  {
   "cell_type": "code",
   "execution_count": 29,
   "metadata": {},
   "outputs": [],
   "source": [
    "# Funzioni parte 2\n",
    "\n",
    "\n",
    "def controlla_mas(A, x, y):\n",
    "    if A[x+1][y+1]=='M' and A[x-1][y-1]=='S' and A[x+1][y-1]=='M' and A[x-1][y+1]=='S':\n",
    "        return 1\n",
    "    if A[x+1][y+1]=='M' and A[x-1][y-1]=='S' and A[x+1][y-1]=='S' and A[x-1][y+1]=='M':\n",
    "        return 1\n",
    "    if A[x+1][y+1]=='S' and A[x-1][y-1]=='M' and A[x+1][y-1]=='M' and A[x-1][y+1]=='S':\n",
    "        return 1\n",
    "    if A[x+1][y+1]=='S' and A[x-1][y-1]=='M' and A[x+1][y-1]=='S' and A[x-1][y+1]=='M':\n",
    "        return 1\n",
    "    return 0\n",
    "\n",
    "\n",
    "def conta_x_mas(A):\n",
    "    out=0\n",
    "    for i in  range(3,len(A)-3):\n",
    "        for j in range(3,len(A[i])-3):\n",
    "            if A[i][j]=='A':\n",
    "                app=controlla_mas(A, i ,j)\n",
    "                out+=app\n",
    "                \n",
    "    return out"
   ]
  },
  {
   "cell_type": "code",
   "execution_count": 31,
   "metadata": {},
   "outputs": [
    {
     "name": "stdout",
     "output_type": "stream",
     "text": [
      "1945\n"
     ]
    }
   ],
   "source": [
    "#Calcola parte 2\n",
    "\n",
    "testo=data\n",
    "\n",
    "answer_2=0\n",
    "\n",
    "testo=orlo_matrice(testo)\n",
    "\n",
    "answer_2=conta_x_mas(testo)\n",
    "\n",
    "print(answer_2)"
   ]
  }
 ],
 "metadata": {
  "kernelspec": {
   "display_name": "aoc24_venv",
   "language": "python",
   "name": "python3"
  },
  "language_info": {
   "codemirror_mode": {
    "name": "ipython",
    "version": 3
   },
   "file_extension": ".py",
   "mimetype": "text/x-python",
   "name": "python",
   "nbconvert_exporter": "python",
   "pygments_lexer": "ipython3",
   "version": "3.10.4"
  }
 },
 "nbformat": 4,
 "nbformat_minor": 2
}
