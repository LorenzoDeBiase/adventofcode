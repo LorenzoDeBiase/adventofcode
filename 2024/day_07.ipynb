{
 "cells": [
  {
   "cell_type": "code",
   "execution_count": 1,
   "metadata": {},
   "outputs": [],
   "source": [
    "def leggi_file_txt(nome_file):\n",
    "    out = []\n",
    "    with open(nome_file, 'r') as file:\n",
    "        for riga in file:\n",
    "                left, right = riga.split(\":\")\n",
    "                left_number = int(left.strip())\n",
    "                right_numbers = list(map(int, right.split()))\n",
    "                out.append([left_number, right_numbers])\n",
    "    return out\n",
    "\n",
    "nome_file = 'input_day7.txt'\n",
    "nome_file_test= 'input_day7_test.txt'\n",
    "data= leggi_file_txt(nome_file)\n",
    "data_test=leggi_file_txt(nome_file_test)"
   ]
  },
  {
   "cell_type": "code",
   "execution_count": 4,
   "metadata": {},
   "outputs": [],
   "source": [
    "#Funzioni parte 1\n",
    "\n",
    "import itertools\n",
    "import functools\n",
    "\n",
    "\n",
    "@functools.cache\n",
    "def combinazioni(n, caratteri=['+','*']):\n",
    "    out=[]\n",
    "    app=list(itertools.combinations_with_replacement(caratteri,n))\n",
    "    for item in app:\n",
    "        out+=list(set(itertools.permutations(item)))\n",
    "    return out\n",
    "\n",
    "\n",
    "def stringa_liste(a, b):\n",
    "    out=''\n",
    "    for i in range(len(b)):\n",
    "        out+=str(a[i])+str(b[i])\n",
    "    out+=str(a[-1])\n",
    "    return out\n",
    "\n",
    "\n",
    "def operazione(a, b):\n",
    "    out=a[0]\n",
    "    for i in range(len(b)):\n",
    "        app=eval(str(out)+b[i]+str(a[i+1]))\n",
    "        out=app\n",
    "    return out   "
   ]
  },
  {
   "cell_type": "code",
   "execution_count": 5,
   "metadata": {},
   "outputs": [
    {
     "name": "stderr",
     "output_type": "stream",
     "text": [
      "100%|██████████| 850/850 [00:39<00:00, 21.33it/s] "
     ]
    },
    {
     "name": "stdout",
     "output_type": "stream",
     "text": [
      "5702958180383\n"
     ]
    },
    {
     "name": "stderr",
     "output_type": "stream",
     "text": [
      "\n"
     ]
    }
   ],
   "source": [
    "# Calcolo parte 1\n",
    "from tqdm import tqdm\n",
    "\n",
    "answer_1=0\n",
    "istruzioni=data\n",
    "\n",
    "for riga in tqdm(istruzioni):\n",
    "    conta=0\n",
    "    app=combinazioni(len(riga[1])-1)\n",
    "    for combinazione in app:\n",
    "        if operazione(riga[1],combinazione)==riga[0]:\n",
    "            conta+=1\n",
    "            break\n",
    "    if conta>0:\n",
    "        answer_1+=riga[0]\n",
    "\n",
    "\n",
    "print(answer_1)"
   ]
  },
  {
   "cell_type": "code",
   "execution_count": 34,
   "metadata": {},
   "outputs": [],
   "source": [
    "#Funzioni parte 2\n",
    "\n",
    "import itertools\n",
    "import functools\n",
    "\n",
    "\n",
    "@functools.cache\n",
    "def combinazioni_2(n, caratteri=['+','*', '#']):\n",
    "    out=[]\n",
    "    app=list(itertools.combinations_with_replacement(caratteri,n))\n",
    "    for item in app:\n",
    "        out+=list(set(itertools.permutations(item)))\n",
    "    return out\n",
    "\n",
    "def operazione_2(a, b):\n",
    "    out=a[0]\n",
    "    for i in range(len(b)):\n",
    "        if b[i]=='#':\n",
    "            out=int(str(out)+str(a[i+1]))\n",
    "        elif b[i]=='+': \n",
    "            out+=int(a[i+1])\n",
    "        else:\n",
    "            out*=int(a[i+1])\n",
    "    return out"
   ]
  },
  {
   "cell_type": "code",
   "execution_count": 38,
   "metadata": {},
   "outputs": [
    {
     "name": "stderr",
     "output_type": "stream",
     "text": [
      "100%|██████████| 850/850 [03:39<00:00,  3.87it/s] "
     ]
    },
    {
     "name": "stdout",
     "output_type": "stream",
     "text": [
      "92612386119138\n"
     ]
    },
    {
     "name": "stderr",
     "output_type": "stream",
     "text": [
      "\n"
     ]
    }
   ],
   "source": [
    "# Calcolo parte 2\n",
    "from tqdm import tqdm\n",
    "\n",
    "answer_2=0\n",
    "istruzioni=data\n",
    "\n",
    "for riga in tqdm(istruzioni):\n",
    "    conta=0\n",
    "    app=combinazioni_2(len(riga[1])-1)\n",
    "    for combinazione in app:\n",
    "        if operazione_2(riga[1],combinazione)==riga[0]:\n",
    "            conta+=1\n",
    "            break\n",
    "    if conta>0:\n",
    "        answer_2+=riga[0]\n",
    "\n",
    "\n",
    "print(answer_2)"
   ]
  }
 ],
 "metadata": {
  "kernelspec": {
   "display_name": "Python 3.10.12 ('aoc24_venv': venv)",
   "language": "python",
   "name": "python3"
  },
  "language_info": {
   "codemirror_mode": {
    "name": "ipython",
    "version": 3
   },
   "file_extension": ".py",
   "mimetype": "text/x-python",
   "name": "python",
   "nbconvert_exporter": "python",
   "pygments_lexer": "ipython3",
   "version": "3.10.12"
  },
  "orig_nbformat": 4,
  "vscode": {
   "interpreter": {
    "hash": "daf19009f39efa1f270818f9e850e8134138fd02bfeffb01770027799e2d9997"
   }
  }
 },
 "nbformat": 4,
 "nbformat_minor": 2
}
