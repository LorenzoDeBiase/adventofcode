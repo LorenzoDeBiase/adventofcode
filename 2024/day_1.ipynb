{
 "cells": [
  {
   "cell_type": "code",
   "execution_count": null,
   "metadata": {},
   "outputs": [],
   "source": [
    "#Import data\n",
    "\n",
    "\n",
    "def leggi_file_txt(nome_file):\n",
    "\n",
    "    lista_righe = []\n",
    "    try:\n",
    "        with open(nome_file, 'r') as file:\n",
    "            for riga in file:\n",
    "                numeri = list(map(int, riga.split()))\n",
    "                lista_righe.append(numeri)\n",
    "    except FileNotFoundError:\n",
    "        print(f\"Errore: Il file {nome_file} non è stato trovato.\")\n",
    "    except ValueError as e:\n",
    "        print(f\"Errore durante la conversione dei dati: {e}\")\n",
    "    return lista_righe\n",
    "\n",
    "nome_file = 'input_day1.txt'\n",
    "nome_file_test= 'input_day1_test.txt'\n",
    "data= leggi_file_txt(nome_file)\n",
    "data_test=leggi_file_txt(nome_file_test)"
   ]
  },
  {
   "cell_type": "code",
   "execution_count": 18,
   "metadata": {},
   "outputs": [],
   "source": [
    "#Funzioni parte 1\n",
    "import copy \n",
    "\n",
    "\n",
    "def trasponi_lista(lista):\n",
    "     return list(map(list, zip(*lista)))\n",
    " \n",
    "def distanza_liste(lista_a, lista_b):\n",
    "     out=0\n",
    "     a=copy.deepcopy(lista_a)\n",
    "     b=copy.deepcopy(lista_b)\n",
    "     while (a!=[]):\n",
    "          out+=abs(min(a)-min(b))\n",
    "          a.remove(min(a))\n",
    "          b.remove(min(b))\n",
    "     return out"
   ]
  },
  {
   "cell_type": "code",
   "execution_count": 33,
   "metadata": {},
   "outputs": [
    {
     "name": "stdout",
     "output_type": "stream",
     "text": [
      "3246517\n"
     ]
    }
   ],
   "source": [
    "#Calcolo parte 1\n",
    "\n",
    "\n",
    "lista_a=trasponi_lista(data)[0]\n",
    "lista_b=trasponi_lista(data)[1]\n",
    "\n",
    "\n",
    "answer_1=distanza_liste(lista_a, lista_b)\n",
    "\n",
    "print(answer_1)"
   ]
  },
  {
   "cell_type": "code",
   "execution_count": 34,
   "metadata": {},
   "outputs": [],
   "source": [
    "#Funzioni parte 2\n",
    "\n",
    "def dizionario_lista(lista):\n",
    "    dizionario={}\n",
    "    for item in lista:\n",
    "        if item not in dizionario.keys():\n",
    "            dizionario[item]=lista.count(item)\n",
    "    return dizionario\n",
    "\n",
    "def  similarity_score(dict_a, dict_b):\n",
    "    out=0\n",
    "    for item in dict_b.keys():\n",
    "        if item in dict_a.keys():\n",
    "            out+=dict_a[item]*dict_b[item]*item\n",
    "    return out"
   ]
  },
  {
   "cell_type": "code",
   "execution_count": 35,
   "metadata": {},
   "outputs": [
    {
     "name": "stdout",
     "output_type": "stream",
     "text": [
      "29379307\n"
     ]
    }
   ],
   "source": [
    "#Calcolo parte 2\n",
    "\n",
    "dict_a = dizionario_lista(lista_a)\n",
    "dict_b= dizionario_lista(lista_b)\n",
    "\n",
    "answer_2=similarity_score(dict_a,dict_b)\n",
    "\n",
    "print(answer_2)"
   ]
  }
 ],
 "metadata": {
  "kernelspec": {
   "display_name": "aoc24_venv",
   "language": "python",
   "name": "python3"
  },
  "language_info": {
   "codemirror_mode": {
    "name": "ipython",
    "version": 3
   },
   "file_extension": ".py",
   "mimetype": "text/x-python",
   "name": "python",
   "nbconvert_exporter": "python",
   "pygments_lexer": "ipython3",
   "version": "3.10.4"
  }
 },
 "nbformat": 4,
 "nbformat_minor": 2
}
