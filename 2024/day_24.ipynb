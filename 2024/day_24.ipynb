{
 "cells": [
  {
   "cell_type": "code",
   "execution_count": 1,
   "metadata": {},
   "outputs": [],
   "source": [
    "def leggi_file_txt(nome_file):\n",
    "    app=open(nome_file).read().split('\\n\\n')\n",
    "    out=[app[0].split('\\n'), [frase.split(' ') for frase in app[1][:-1].split('\\n')]]\n",
    "    return out\n",
    "\n",
    "\n",
    "nome_file = 'input_day24.txt'\n",
    "nome_file_test= 'input_day24_test.txt'\n",
    "data= leggi_file_txt(nome_file)\n",
    "data_test=leggi_file_txt(nome_file_test)"
   ]
  },
  {
   "cell_type": "code",
   "execution_count": 2,
   "metadata": {},
   "outputs": [],
   "source": [
    "# Funzioni parte 1\n",
    "\n",
    "from operator import and_ , xor , or_\n",
    "\n",
    "def operazione(primo, operatore, secondo):\n",
    "    if operatore=='AND':\n",
    "        return and_(primo, secondo)\n",
    "\n",
    "    if operatore=='OR':\n",
    "        return or_(primo, secondo)\n",
    "    \n",
    "    if operatore=='XOR':\n",
    "        return xor(primo, secondo)\n",
    "\n",
    "\n",
    "def crea_dizionario(lista):\n",
    "    out={}\n",
    "    for item in lista:\n",
    "        app=item.split(': ')\n",
    "        out[app[0]]=int(app[1])\n",
    "    return out\n",
    "\n",
    "\n",
    "def punteggio(dizionario):\n",
    "    lista_chiavi=sorted(list(dizionario.keys()))\n",
    "    out=''\n",
    "    for chiave in lista_chiavi:\n",
    "        if chiave[0]=='z':\n",
    "            out=str(dizionario[chiave])+out\n",
    "    return int(out,2), out\n"
   ]
  },
  {
   "cell_type": "code",
   "execution_count": 3,
   "metadata": {},
   "outputs": [
    {
     "name": "stdout",
     "output_type": "stream",
     "text": [
      "(2024, '0011111101000')\n"
     ]
    }
   ],
   "source": [
    "# Calcolo parte 1\n",
    "\n",
    "answer_1=0\n",
    "istruzioni=data\n",
    "\n",
    "dizionario=crea_dizionario(istruzioni[0])\n",
    "lista_comandi=istruzioni[1]\n",
    "\n",
    "while(len(lista_comandi)>0):\n",
    "    lista_nuova=[]\n",
    "    for comando in lista_comandi:\n",
    "        if comando[0] in dizionario.keys() and comando[2] in dizionario.keys():\n",
    "            dizionario[comando[4]]=operazione(dizionario[comando[0]], comando[1], dizionario[comando[2]])\n",
    "        else:\n",
    "            lista_nuova.append(comando)\n",
    "    lista_comandi=lista_nuova\n",
    "\n",
    "\n",
    "answer_1=punteggio(dizionario)\n",
    "print(answer_1)"
   ]
  }
 ],
 "metadata": {
  "kernelspec": {
   "display_name": "Python 3.10.12 ('aoc24_venv': venv)",
   "language": "python",
   "name": "python3"
  },
  "language_info": {
   "codemirror_mode": {
    "name": "ipython",
    "version": 3
   },
   "file_extension": ".py",
   "mimetype": "text/x-python",
   "name": "python",
   "nbconvert_exporter": "python",
   "pygments_lexer": "ipython3",
   "version": "3.10.12"
  },
  "orig_nbformat": 4,
  "vscode": {
   "interpreter": {
    "hash": "daf19009f39efa1f270818f9e850e8134138fd02bfeffb01770027799e2d9997"
   }
  }
 },
 "nbformat": 4,
 "nbformat_minor": 2
}
