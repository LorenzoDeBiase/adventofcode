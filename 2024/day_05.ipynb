{
 "cells": [
  {
   "cell_type": "code",
   "execution_count": 1,
   "metadata": {},
   "outputs": [],
   "source": [
    "def leggi_file_txt(file_name):\n",
    "    try:\n",
    "        with open(file_name, \"r\") as file:\n",
    "            part1 = []\n",
    "            part2 = []\n",
    "            empty_line_found = False\n",
    "            for line in file:\n",
    "                line = line.strip()\n",
    "                if line == \"\":\n",
    "                    empty_line_found = True\n",
    "                    continue\n",
    "                if not empty_line_found:\n",
    "                    if \"|\" in line:\n",
    "                        try:\n",
    "                            num1, num2 = map(int, line.split(\"|\"))\n",
    "                            part1.append([num1, num2])\n",
    "                        except ValueError:\n",
    "                            print(f\"Errore nel parsing della riga: {line}\")\n",
    "                    else:\n",
    "                        print(f\"Linea non valida nella prima parte: {line}\")\n",
    "                else:\n",
    "                    if \",\" in line:\n",
    "                        try:\n",
    "                            numbers = list(map(int, line.split(\",\")))\n",
    "                            part2.append(numbers)\n",
    "                        except ValueError:\n",
    "                            print(f\"Errore nel parsing della riga: {line}\")\n",
    "                    else:\n",
    "                        print(f\"Linea non valida nella seconda parte: {line}\")\n",
    "            return part1, part2\n",
    "    except FileNotFoundError:\n",
    "        print(f\"Errore: il file '{file_name}' non esiste.\")\n",
    "        return None, None\n",
    "    except Exception as e:\n",
    "        print(f\"Errore inatteso: {e}\")\n",
    "        return None, None\n",
    "\n",
    "nome_file = 'input_day5.txt'\n",
    "nome_file_test= 'input_day5_test.txt'\n",
    "data_1 , data_2= leggi_file_txt(nome_file)\n",
    "data_test_1, data_test_2 =leggi_file_txt(nome_file_test)\n",
    "\n"
   ]
  },
  {
   "cell_type": "code",
   "execution_count": 2,
   "metadata": {},
   "outputs": [],
   "source": [
    "#Funzioni parte 1\n",
    "\n",
    "\n",
    "def is_valid(lista, istruzione):\n",
    "    if istruzione[0] not in lista or istruzione[1] not in lista:\n",
    "        return 1\n",
    "    if lista.index(istruzione[0]) < lista.index(istruzione[1]):\n",
    "        return 1\n",
    "    else :\n",
    "        return 0\n",
    "\n",
    "\n",
    "\n",
    "def valore_centrale(lista):\n",
    "    return lista[int((len(lista)-1)/2)]\n"
   ]
  },
  {
   "cell_type": "code",
   "execution_count": 3,
   "metadata": {},
   "outputs": [
    {
     "name": "stdout",
     "output_type": "stream",
     "text": [
      "5091\n"
     ]
    }
   ],
   "source": [
    "#Calcolo parte 1\n",
    "\n",
    "istruzioni=data_1\n",
    "testo=data_2\n",
    "\n",
    "answer_1=0\n",
    "\n",
    "\n",
    "for riga in testo:\n",
    "    conta=0\n",
    "    for istruzione in istruzioni:\n",
    "        if not is_valid(riga, istruzione):\n",
    "            conta+=1\n",
    "    if conta==0:\n",
    "        answer_1+=valore_centrale(riga)\n",
    "\n",
    "print(answer_1)"
   ]
  },
  {
   "cell_type": "code",
   "execution_count": 4,
   "metadata": {},
   "outputs": [],
   "source": [
    "#Funzioni parte 2\n",
    "\n",
    "def is_row_valid(riga,istruzioni):\n",
    "    conta=0\n",
    "    for istruzione in istruzioni:\n",
    "        if not is_valid(riga, istruzione):\n",
    "            conta+=1\n",
    "    if conta==0:\n",
    "        return 1\n",
    "    else:\n",
    "        return 0\n",
    "    \n",
    "def trova_istruzione(x,y, istruzioni=istruzioni):\n",
    "    for istruzione in istruzioni:\n",
    "        if istruzione[0]==y and istruzione[1]==x:\n",
    "            return 1\n",
    "    return 0\n",
    "\n",
    "\n",
    "def bubble_riordina(lista,istruzioni):\n",
    "    for n in range(len(lista) - 1, 0, -1):\n",
    " \n",
    "        for i in range(n):\n",
    "            if trova_istruzione(lista[i],lista[i + 1],istruzioni):\n",
    "                lista[i], lista[i + 1] = lista[i + 1], lista[i]\n",
    "               \n",
    "    return lista"
   ]
  },
  {
   "cell_type": "code",
   "execution_count": 5,
   "metadata": {},
   "outputs": [
    {
     "name": "stdout",
     "output_type": "stream",
     "text": [
      "4681\n"
     ]
    }
   ],
   "source": [
    "#Calcolo parte 2\n",
    "\n",
    "istruzioni=data_1\n",
    "testo=data_2\n",
    "\n",
    "\n",
    "answer_2=0\n",
    "\n",
    "\n",
    "for riga in testo:\n",
    "    if not is_row_valid(riga,istruzioni):\n",
    "        answer_2+=valore_centrale(bubble_riordina(riga,istruzioni))\n",
    "    \n",
    "print(answer_2)\n",
    "\n",
    "\n"
   ]
  }
 ],
 "metadata": {
  "kernelspec": {
   "display_name": "aoc24_venv",
   "language": "python",
   "name": "python3"
  },
  "language_info": {
   "codemirror_mode": {
    "name": "ipython",
    "version": 3
   },
   "file_extension": ".py",
   "mimetype": "text/x-python",
   "name": "python",
   "nbconvert_exporter": "python",
   "pygments_lexer": "ipython3",
   "version": "3.10.4"
  }
 },
 "nbformat": 4,
 "nbformat_minor": 2
}
