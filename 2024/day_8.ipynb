{
 "cells": [
  {
   "cell_type": "code",
   "execution_count": 5,
   "metadata": {},
   "outputs": [],
   "source": [
    "#Import data\n",
    "\n",
    "\n",
    "def leggi_file_txt(nome_file):\n",
    "\n",
    "    lista_righe = []\n",
    "    try:\n",
    "        with open(nome_file, 'r') as file:\n",
    "            for riga in file:\n",
    "                lettere = list(riga[:-1])\n",
    "                lista_righe.append(lettere)\n",
    "    except FileNotFoundError:\n",
    "        print(f\"Errore: Il file {nome_file} non è stato trovato.\")\n",
    "    except ValueError as e:\n",
    "        print(f\"Errore durante la conversione dei dati: {e}\")\n",
    "    return lista_righe\n",
    "\n",
    "nome_file = 'input_day8.txt'\n",
    "nome_file_test= 'input_day8_test.txt'\n",
    "data= leggi_file_txt(nome_file)\n",
    "data_test=leggi_file_txt(nome_file_test)"
   ]
  },
  {
   "cell_type": "code",
   "execution_count": 6,
   "metadata": {},
   "outputs": [],
   "source": [
    "#Funzioni parte 1\n",
    "\n",
    "def trova_antenne(lista):\n",
    "    out={}\n",
    "    for i in range(len(lista)):\n",
    "        for j in range(len(lista)):\n",
    "            if lista[i][j]!='.':\n",
    "                if lista[i][j] not in out.keys():\n",
    "                    out[lista[i][j]]=[[i,j]]\n",
    "                else:\n",
    "                    out[lista[i][j]].append([i,j])\n",
    "    return out\n",
    "\n",
    "\n",
    "def calcola_antinodi(x_1,y_1,x_2, y_2):\n",
    "    a_1=x_1+(x_1-x_2)\n",
    "    b_1=y_1+(y_1-y_2)\n",
    "    a_2=x_2+(x_2-x_1)\n",
    "    b_2=y_2+(y_2-y_1)\n",
    "    return [a_1, b_1], [a_2, b_2]\n",
    "\n",
    "\n",
    "def antinodo_valido(coordinate, mappa):\n",
    "    if coordinate[0]>=0 and coordinate[0]<len(mappa) and coordinate[1]>=0 and coordinate[1]<len(mappa[0]):\n",
    "        return 1\n",
    "    else:\n",
    "        return 0\n",
    "\n",
    "\n",
    "def genera_coppie(lista):\n",
    "    out=[]\n",
    "    for i in range(len(lista)):\n",
    "        for j in range(i+1,len(lista)):\n",
    "            out.append([lista[i], lista[j]])\n",
    "    return out"
   ]
  },
  {
   "cell_type": "code",
   "execution_count": 7,
   "metadata": {},
   "outputs": [
    {
     "name": "stdout",
     "output_type": "stream",
     "text": [
      "341\n"
     ]
    }
   ],
   "source": [
    "#Calcolo parte 1\n",
    "\n",
    "mappa=data\n",
    "\n",
    "answer_1=0\n",
    "\n",
    "dizionario_antenne=trova_antenne(mappa)\n",
    "lista_antinodi=[]\n",
    "\n",
    "\n",
    "for tipo in dizionario_antenne.keys():\n",
    "    coppie_antenne=genera_coppie(dizionario_antenne[tipo])\n",
    "    for coppia in coppie_antenne:\n",
    "        app=calcola_antinodi(coppia[0][0], coppia[0][1], coppia[1][0], coppia[1][1])\n",
    "        if antinodo_valido(app[0], mappa) and app[0] not in lista_antinodi:\n",
    "            lista_antinodi.append(app[0])\n",
    "        if antinodo_valido(app[1], mappa) and app[1] not in lista_antinodi:\n",
    "            lista_antinodi.append(app[1])\n",
    "\n",
    "\n",
    "answer_1=len(lista_antinodi)\n",
    "print(answer_1)"
   ]
  },
  {
   "cell_type": "code",
   "execution_count": 33,
   "metadata": {},
   "outputs": [],
   "source": [
    "#Funzioni parte 2\n",
    "import copy\n",
    "\n",
    "def direzioni_antinodi(x_1,y_1,x_2, y_2):\n",
    "    a_1=x_1-x_2\n",
    "    b_1=y_1-y_2\n",
    "    a_2=x_2-x_1\n",
    "    b_2=y_2-y_1\n",
    "    return [a_1, b_1], [a_2, b_2]\n",
    "\n",
    "\n",
    "def retta_antinodi(antenna_1, antenna_2, mappa):\n",
    "    out=[]\n",
    "    semiretta_1, semiretta_2 =direzioni_antinodi(antenna_1[0], antenna_1[1], antenna_2[0], antenna_2[1])\n",
    "    posizione_1=copy.deepcopy(antenna_1)\n",
    "    while(posizione_1[0]>=0 and posizione_1[0]<len(mappa) and posizione_1[1]>=0 and posizione_1[1]<len(mappa[0])):\n",
    "        out.append([posizione_1[0],posizione_1[1]] )\n",
    "        posizione_1[0]+=semiretta_1[0]\n",
    "        posizione_1[1]+=semiretta_1[1]\n",
    "    posizione_2=copy.deepcopy(antenna_2)\n",
    "    while(posizione_2[0]>=0 and posizione_2[0]<len(mappa) and posizione_2[1]>=0 and posizione_2[1]<len(mappa[0])):\n",
    "        out.append([posizione_2[0],posizione_2[1]] )\n",
    "        posizione_2[0]+=semiretta_2[0]\n",
    "        posizione_2[1]+=semiretta_2[1]    \n",
    "    return out"
   ]
  },
  {
   "cell_type": "code",
   "execution_count": 43,
   "metadata": {},
   "outputs": [
    {
     "name": "stdout",
     "output_type": "stream",
     "text": [
      "1134\n"
     ]
    }
   ],
   "source": [
    "#Calcolo parte 2\n",
    "\n",
    "mappa=data\n",
    "answer_2=0\n",
    "dizionario_antenne=trova_antenne(mappa)\n",
    "lista_antinodi_2=[]\n",
    "\n",
    "\n",
    "for tipo in dizionario_antenne.keys():\n",
    "    coppie_antenne=genera_coppie(dizionario_antenne[tipo])\n",
    "    for coppia in coppie_antenne:\n",
    "        app=retta_antinodi(coppia[0], coppia[1], mappa)\n",
    "        for item in app:\n",
    "            if item not in lista_antinodi_2:\n",
    "                lista_antinodi_2.append(item)\n",
    "\n",
    "answer_2=len(lista_antinodi_2)\n",
    "\n",
    "print(answer_2)"
   ]
  }
 ],
 "metadata": {
  "kernelspec": {
   "display_name": "aoc24_venv",
   "language": "python",
   "name": "python3"
  },
  "language_info": {
   "codemirror_mode": {
    "name": "ipython",
    "version": 3
   },
   "file_extension": ".py",
   "mimetype": "text/x-python",
   "name": "python",
   "nbconvert_exporter": "python",
   "pygments_lexer": "ipython3",
   "version": "3.10.4"
  }
 },
 "nbformat": 4,
 "nbformat_minor": 2
}
