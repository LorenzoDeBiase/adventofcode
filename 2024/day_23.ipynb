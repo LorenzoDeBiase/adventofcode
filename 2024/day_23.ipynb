{
 "cells": [
  {
   "cell_type": "code",
   "execution_count": 2,
   "metadata": {},
   "outputs": [],
   "source": [
    "def leggi_file(nome_file):\n",
    "\n",
    "    out = []\n",
    "    try:\n",
    "        with open(nome_file, 'r') as file:\n",
    "            for riga in file:\n",
    "                out.append(riga[:-1].split('-'))\n",
    "                \n",
    "    except FileNotFoundError:\n",
    "        print(f\"Errore: Il file {nome_file} non è stato trovato.\")\n",
    "    except ValueError as e:\n",
    "        print(f\"Errore durante la conversione dei dati: {e}\")\n",
    "    return out\n",
    "\n",
    "\n",
    "nome_file = 'input_day23.txt'\n",
    "nome_file_test= 'input_day23_test.txt'\n",
    "data= leggi_file(nome_file)\n",
    "data_test=leggi_file(nome_file_test)\n"
   ]
  },
  {
   "cell_type": "code",
   "execution_count": 11,
   "metadata": {},
   "outputs": [],
   "source": [
    "# Funzioni parte 1\n",
    "\n",
    "\n",
    "import networkx as nx\n",
    "\n",
    "\n",
    "def lan_terzetti(grafo):\n",
    "    out=[]\n",
    "    terzetti = nx.simple_cycles(grafo, length_bound=3)\n",
    "    for terzetto in terzetti:\n",
    "        if terzetto[0][0]=='t' or terzetto[1][0]=='t' or terzetto[2][0]=='t':\n",
    "            out.append(terzetto)\n",
    "    return out"
   ]
  },
  {
   "cell_type": "code",
   "execution_count": 14,
   "metadata": {},
   "outputs": [
    {
     "name": "stdout",
     "output_type": "stream",
     "text": [
      "998\n"
     ]
    }
   ],
   "source": [
    "#Calcolo parte 1\n",
    "\n",
    "answer_1=0\n",
    "\n",
    "G = nx.from_edgelist(data)\n",
    "\n",
    "answer_1=len(lan_terzetti(G))\n",
    "print(answer_1)"
   ]
  },
  {
   "cell_type": "code",
   "execution_count": 33,
   "metadata": {},
   "outputs": [],
   "source": [
    "# Funzioni parte 2\n",
    "\n",
    "def max_clique(grafo):\n",
    "    lista_cliques=list(nx.find_cliques(grafo))\n",
    "    lista_lunghezze=[len(clique) for clique in lista_cliques]\n",
    "    idx=0\n",
    "    massimo=0\n",
    "    for i in range(len(lista_lunghezze)):\n",
    "        if lista_lunghezze[i]>massimo:\n",
    "            idx=i\n",
    "            massimo=lista_lunghezze[i]\n",
    "    out=lista_cliques[idx]\n",
    "    return out\n",
    "\n",
    "def ordine_lessicografico(lista):\n",
    "    lista.sort()\n",
    "    return lista\n",
    "\n",
    "def stampa_lista(lista):\n",
    "    out=''\n",
    "    for parola in lista:\n",
    "        out+=parola+','\n",
    "    return out[:-1]"
   ]
  },
  {
   "cell_type": "code",
   "execution_count": 37,
   "metadata": {},
   "outputs": [
    {
     "name": "stdout",
     "output_type": "stream",
     "text": [
      "cc,ff,fh,fr,ny,oa,pl,rg,uj,wd,xn,xs,zw\n"
     ]
    }
   ],
   "source": [
    "# Calcolo parte 2\n",
    "\n",
    "G = nx.from_edgelist(data)\n",
    "\n",
    "answer_2=max_clique(G)\n",
    "print(stampa_lista(ordine_lessicografico(answer_2)))"
   ]
  }
 ],
 "metadata": {
  "kernelspec": {
   "display_name": "Python 3.10.12 ('aoc24_venv': venv)",
   "language": "python",
   "name": "python3"
  },
  "language_info": {
   "codemirror_mode": {
    "name": "ipython",
    "version": 3
   },
   "file_extension": ".py",
   "mimetype": "text/x-python",
   "name": "python",
   "nbconvert_exporter": "python",
   "pygments_lexer": "ipython3",
   "version": "3.10.12"
  },
  "orig_nbformat": 4,
  "vscode": {
   "interpreter": {
    "hash": "daf19009f39efa1f270818f9e850e8134138fd02bfeffb01770027799e2d9997"
   }
  }
 },
 "nbformat": 4,
 "nbformat_minor": 2
}
