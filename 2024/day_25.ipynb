{
 "cells": [
  {
   "cell_type": "code",
   "execution_count": 1,
   "metadata": {},
   "outputs": [],
   "source": [
    "#Ingestion\n",
    "\n",
    "def leggi_file_txt(nome_file):\n",
    "    out = []\n",
    "    for blocco in open(nome_file).read().split('\\n\\n'):\n",
    "        out.append([list(item) for item in blocco.split('\\n')])\n",
    "    return out\n",
    "\n",
    "nome_file = 'input_day25.txt'\n",
    "nome_file_test= 'input_day25_test.txt'\n",
    "data= leggi_file_txt(nome_file)\n",
    "data_test=leggi_file_txt(nome_file_test)"
   ]
  },
  {
   "cell_type": "code",
   "execution_count": 2,
   "metadata": {},
   "outputs": [],
   "source": [
    "# Funzioni parte 1\n",
    "\n",
    "def stampa(lista):\n",
    "    print(*[' '.join(map(str,item)) for item in lista], sep='\\n')\n",
    "\n",
    "def colonne(lista):\n",
    "    return list(zip(*lista))\n",
    "\n",
    "def is_locker(lista):\n",
    "    conta=0\n",
    "    for item in lista[0]:\n",
    "        if item=='#':\n",
    "            conta+=1\n",
    "    if conta==len(lista[0]):\n",
    "        return 1\n",
    "    else:\n",
    "        return 0\n",
    "\n",
    "def conta_hash(lista):\n",
    "    out=[]\n",
    "    col=colonne(lista)\n",
    "    for colonna in col:\n",
    "        conta=0\n",
    "        for elemento in colonna:\n",
    "            if elemento=='#':\n",
    "                conta+=1\n",
    "        out.append(conta)\n",
    "    return out\n",
    "\n",
    "def combaciano(locker, key, size):\n",
    "    for i in range(len(locker)):\n",
    "        if size-key[i]< locker[i]:\n",
    "            return 0\n",
    "    return 1\n"
   ]
  },
  {
   "cell_type": "code",
   "execution_count": 3,
   "metadata": {},
   "outputs": [
    {
     "name": "stdout",
     "output_type": "stream",
     "text": [
      "3466\n"
     ]
    }
   ],
   "source": [
    "# Calcolo parte 1\n",
    "import matplotlib.pyplot as plp\n",
    "\n",
    "\n",
    "answer_1=0\n",
    "mappa=data[:-1]\n",
    "\n",
    "size=len(mappa[0])\n",
    "serrature=[]\n",
    "chiavi=[]\n",
    "for item in mappa:\n",
    "    if is_locker(item):\n",
    "        serrature.append(conta_hash(item))\n",
    "    else:\n",
    "        chiavi.append(conta_hash(item))\n",
    "\n",
    "for serratura in serrature:\n",
    "    for chiave in chiavi:\n",
    "\n",
    "        if combaciano(serratura, chiave, size):\n",
    "            answer_1+=1\n",
    "\n",
    "print(answer_1)"
   ]
  }
 ],
 "metadata": {
  "kernelspec": {
   "display_name": "Python 3.10.12 ('aoc24_venv': venv)",
   "language": "python",
   "name": "python3"
  },
  "language_info": {
   "codemirror_mode": {
    "name": "ipython",
    "version": 3
   },
   "file_extension": ".py",
   "mimetype": "text/x-python",
   "name": "python",
   "nbconvert_exporter": "python",
   "pygments_lexer": "ipython3",
   "version": "3.10.12"
  },
  "orig_nbformat": 4,
  "vscode": {
   "interpreter": {
    "hash": "daf19009f39efa1f270818f9e850e8134138fd02bfeffb01770027799e2d9997"
   }
  }
 },
 "nbformat": 4,
 "nbformat_minor": 2
}
